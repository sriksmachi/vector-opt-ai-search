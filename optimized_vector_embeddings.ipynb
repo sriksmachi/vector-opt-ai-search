{
 "cells": [
  {
   "cell_type": "markdown",
   "metadata": {},
   "source": [
    "# AI Search with Vector Compression"
   ]
  },
  {
   "cell_type": "code",
   "execution_count": 1,
   "metadata": {},
   "outputs": [],
   "source": [
    "import os\n",
    "from dotenv import load_dotenv\n",
    "import pandas as pd\n",
    "from openai import AzureOpenAI\n",
    "from azure.search.documents import SearchClient\n",
    "from azure.core.credentials import AzureKeyCredential\n",
    "\n",
    "# Load environment variables from .env file\n",
    "load_dotenv(override=True)\n",
    "%load_ext autoreload\n",
    "%autoreload 2"
   ]
  },
  {
   "cell_type": "code",
   "execution_count": 2,
   "metadata": {},
   "outputs": [],
   "source": [
    "# %pip install mercury"
   ]
  },
  {
   "cell_type": "code",
   "execution_count": 3,
   "metadata": {},
   "outputs": [],
   "source": [
    "search_service_endpoint = os.environ[\"AZURE_SEARCH_ENDPOINT\"]\n",
    "search_service_key = os.environ[\"AZURE_SEARCH_KEY\"]\n",
    "azure_openai_endpoint = os.environ[\"AZURE_OPENAI_ENDPOINT\"]\n",
    "azure_openai_key = os.getenv(\"AZURE_OPENAI_KEY\")\n",
    "azure_openai_embedding_deployment = os.getenv(\"AZURE_OPENAI_EMBEDDING_DEPLOYMENT\", \"text-embedding-3-large\")\n",
    "azure_openai_embedding_dimensions = int(os.getenv(\"AZURE_OPENAI_EMBEDDING_DIMENSIONS\", 3072))\n",
    "embedding_model_name = os.getenv(\"AZURE_OPENAI_EMBEDDING_DEPLOYMENT\", \"text-embedding-3-large\")\n",
    "azure_openai_api_version = os.getenv(\"AZURE_OPENAI_API_VERSION\", \"2024-06-01\")"
   ]
  },
  {
   "cell_type": "code",
   "execution_count": 4,
   "metadata": {},
   "outputs": [
    {
     "data": {
      "text/html": [
       "<div>\n",
       "<style scoped>\n",
       "    .dataframe tbody tr th:only-of-type {\n",
       "        vertical-align: middle;\n",
       "    }\n",
       "\n",
       "    .dataframe tbody tr th {\n",
       "        vertical-align: top;\n",
       "    }\n",
       "\n",
       "    .dataframe thead th {\n",
       "        text-align: right;\n",
       "    }\n",
       "</style>\n",
       "<table border=\"1\" class=\"dataframe\">\n",
       "  <thead>\n",
       "    <tr style=\"text-align: right;\">\n",
       "      <th></th>\n",
       "      <th>search_text</th>\n",
       "    </tr>\n",
       "  </thead>\n",
       "  <tbody>\n",
       "    <tr>\n",
       "      <th>0</th>\n",
       "      <td>\"What is the main plot of the first Harry Pott...</td>\n",
       "    </tr>\n",
       "  </tbody>\n",
       "</table>\n",
       "</div>"
      ],
      "text/plain": [
       "                                         search_text\n",
       "0  \"What is the main plot of the first Harry Pott..."
      ]
     },
     "execution_count": 4,
     "metadata": {},
     "output_type": "execute_result"
    }
   ],
   "source": [
    "indexes = [\"data-baseline\"]\n",
    "\n",
    "# read test_data.txt as array of strings\n",
    "with open(\"test_data.txt\", \"r\") as f:\n",
    "    test_data = f.readlines()\n",
    "    test_data = test_data[1:len(test_data)-1]\n",
    "ds = pd.DataFrame(test_data, columns=[\"search_text\"])\n",
    "ds[\"search_text\"] = ds[\"search_text\"].str.strip()\n",
    "ds.head(1)"
   ]
  },
  {
   "cell_type": "code",
   "execution_count": 32,
   "metadata": {},
   "outputs": [],
   "source": [
    "def search_docs(search_client, search_text):\n",
    "    search_text = search_text.replace(\"\\\"\", \"\")\n",
    "    results = search_client.search(search_text=search_text, top=1)\n",
    "    text = \"\"\n",
    "    for res in results:\n",
    "        text, score = res[\"chunk\"], res[\"@search.score\"]\n",
    "    return text, score\n",
    "\n",
    "search_client = SearchClient(endpoint=search_service_endpoint, index_name=indexes[0], credential=AzureKeyCredential(search_service_key))\n",
    "ds[\"search_results\"] = ds[\"search_text\"].apply(lambda x: search_docs(search_client, x))\n",
    "ds[\"search_results_text\"] = ds[\"search_results\"].apply(lambda x: x[0])\n",
    "ds[\"search_results_score\"] = ds[\"search_results\"].apply(lambda x: x[1])\n",
    "ds[\"search_results_score\"] = ds[\"search_results_score\"].astype(float)\n",
    "# delete search_results column\n",
    "ds = ds.drop(columns=[\"search_results\"])\n",
    "ds.head()"
   ]
  },
  {
   "cell_type": "code",
   "execution_count": null,
   "metadata": {},
   "outputs": [
    {
     "data": {
      "text/html": [
       "<div>\n",
       "<style scoped>\n",
       "    .dataframe tbody tr th:only-of-type {\n",
       "        vertical-align: middle;\n",
       "    }\n",
       "\n",
       "    .dataframe tbody tr th {\n",
       "        vertical-align: top;\n",
       "    }\n",
       "\n",
       "    .dataframe thead th {\n",
       "        text-align: right;\n",
       "    }\n",
       "</style>\n",
       "<table border=\"1\" class=\"dataframe\">\n",
       "  <thead>\n",
       "    <tr style=\"text-align: right;\">\n",
       "      <th></th>\n",
       "      <th>search_text</th>\n",
       "      <th>search_results_text</th>\n",
       "      <th>search_results_score</th>\n",
       "    </tr>\n",
       "  </thead>\n",
       "  <tbody>\n",
       "    <tr>\n",
       "      <th>0</th>\n",
       "      <td>\"What is the main plot of the first Harry Pott...</td>\n",
       "      <td>es of yellowish parchment, addressed in green ...</td>\n",
       "      <td>4.669311</td>\n",
       "    </tr>\n",
       "    <tr>\n",
       "      <th>1</th>\n",
       "      <td>\"Who are the main characters in Harry Potter a...</td>\n",
       "      <td>es of yellowish parchment, addressed in green ...</td>\n",
       "      <td>4.936015</td>\n",
       "    </tr>\n",
       "    <tr>\n",
       "      <th>2</th>\n",
       "      <td>\"What is the significance of the Sorting Hat i...</td>\n",
       "      <td>n their seats, squinting at the ground.  “I ca...</td>\n",
       "      <td>5.508645</td>\n",
       "    </tr>\n",
       "    <tr>\n",
       "      <th>3</th>\n",
       "      <td>\"How does Harry Potter discover he is a wizard?\",</td>\n",
       "      <td>Harry Potter and the Chamber of Secrets  by  J...</td>\n",
       "      <td>4.458499</td>\n",
       "    </tr>\n",
       "    <tr>\n",
       "      <th>4</th>\n",
       "      <td>\"What are the key differences between the book...</td>\n",
       "      <td>es of yellowish parchment, addressed in green ...</td>\n",
       "      <td>6.495887</td>\n",
       "    </tr>\n",
       "  </tbody>\n",
       "</table>\n",
       "</div>"
      ],
      "text/plain": [
       "                                         search_text  \\\n",
       "0  \"What is the main plot of the first Harry Pott...   \n",
       "1  \"Who are the main characters in Harry Potter a...   \n",
       "2  \"What is the significance of the Sorting Hat i...   \n",
       "3  \"How does Harry Potter discover he is a wizard?\",   \n",
       "4  \"What are the key differences between the book...   \n",
       "\n",
       "                                 search_results_text  search_results_score  \n",
       "0  es of yellowish parchment, addressed in green ...              4.669311  \n",
       "1  es of yellowish parchment, addressed in green ...              4.936015  \n",
       "2  n their seats, squinting at the ground.  “I ca...              5.508645  \n",
       "3  Harry Potter and the Chamber of Secrets  by  J...              4.458499  \n",
       "4  es of yellowish parchment, addressed in green ...              6.495887  "
      ]
     },
     "execution_count": 34,
     "metadata": {},
     "output_type": "execute_result"
    }
   ],
   "source": [
    "\n"
   ]
  }
 ],
 "metadata": {
  "kernelspec": {
   "display_name": ".venv",
   "language": "python",
   "name": "python3"
  },
  "language_info": {
   "codemirror_mode": {
    "name": "ipython",
    "version": 3
   },
   "file_extension": ".py",
   "mimetype": "text/x-python",
   "name": "python",
   "nbconvert_exporter": "python",
   "pygments_lexer": "ipython3",
   "version": "3.11.9"
  }
 },
 "nbformat": 4,
 "nbformat_minor": 2
}

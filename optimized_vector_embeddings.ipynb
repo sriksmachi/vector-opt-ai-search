{
 "cells": [
  {
   "cell_type": "markdown",
   "metadata": {},
   "source": [
    "# Vector Compression Techniques with Azure AI Search\n",
    "\n",
    "This Jupyter Notebook serves as a comprehensive tool for benchmarking various vector compression techniques in the context of Azure AI Search. As organizations increasingly rely on vector search for efficient retrieval of high-dimensional data, optimizing storage and query performance becomes critical. This notebook provides an end-to-end framework to evaluate compression algorithms—such as quantization, dimensionality reduction, and sparse representations—by comparing their impact on key metrics like retrieval accuracy, latency, and storage efficiency. Leveraging Azure AI Search's robust capabilities, the notebook enables users to upload, compress, and index vector datasets, perform search queries, and visualize the trade-offs between performance and compression levels. Ideal for data scientists and AI practitioners, this resource facilitates data-driven decisions in selecting the best compression strategy tailored to specific use cases."
   ]
  },
  {
   "cell_type": "code",
   "execution_count": 83,
   "metadata": {},
   "outputs": [
    {
     "name": "stdout",
     "output_type": "stream",
     "text": [
      "The autoreload extension is already loaded. To reload it, use:\n",
      "  %reload_ext autoreload\n"
     ]
    }
   ],
   "source": [
    "import sys\n",
    "sys.path.append(\".\")\n",
    "\n",
    "\n",
    "import os\n",
    "from dotenv import load_dotenv\n",
    "import pandas as pd\n",
    "from azure.search.documents import SearchClient\n",
    "from azure.core.credentials import AzureKeyCredential\n",
    "import json\n",
    "import time\n",
    "import numpy as np\n",
    "from azure.search.documents.indexes import SearchIndexClient\n",
    "from indexes import indexes_config\n",
    "from matplotlib import pyplot as plt\n",
    "from tqdm import tqdm\n",
    "\n",
    "# Load environment variables from .env file\n",
    "load_dotenv(override=True)\n",
    "%load_ext autoreload\n",
    "%autoreload 2\n",
    "\n",
    "# Load environment variables from .env file\n",
    "search_service_endpoint = os.environ[\"AZURE_SEARCH_ENDPOINT\"]\n",
    "search_service_key = os.environ[\"AZURE_SEARCH_KEY\"]\n",
    "azure_openai_endpoint = os.environ[\"AZURE_OPENAI_ENDPOINT\"]\n",
    "azure_openai_key = os.getenv(\"AZURE_OPENAI_KEY\")\n",
    "azure_openai_gpt_deployment = os.getenv(\"AZURE_OPENAI_CHAT_DEPLOYMENT\", \"gpt-4o\")\n",
    "azure_openai_embedding_deployment = os.getenv(\"AZURE_OPENAI_EMBEDDING_DEPLOYMENT\", \"text-embedding-3-large\")\n",
    "azure_openai_embedding_dimensions = int(os.getenv(\"AZURE_OPENAI_EMBEDDING_DIMENSIONS\", 3072))\n",
    "embedding_model_name = os.getenv(\"AZURE_OPENAI_EMBEDDING_DEPLOYMENT\", \"text-embedding-3-large\")\n",
    "azure_openai_api_version = os.getenv(\"AZURE_OPENAI_API_VERSION\", \"2024-06-01\")\n",
    "use_hybrid_search = False"
   ]
  },
  {
   "cell_type": "code",
   "execution_count": 84,
   "metadata": {},
   "outputs": [],
   "source": [
    "search_index_client = SearchIndexClient(\n",
    "search_service_endpoint, AzureKeyCredential(search_service_key))"
   ]
  },
  {
   "cell_type": "code",
   "execution_count": 85,
   "metadata": {},
   "outputs": [
    {
     "data": {
      "text/html": [
       "<div>\n",
       "<style scoped>\n",
       "    .dataframe tbody tr th:only-of-type {\n",
       "        vertical-align: middle;\n",
       "    }\n",
       "\n",
       "    .dataframe tbody tr th {\n",
       "        vertical-align: top;\n",
       "    }\n",
       "\n",
       "    .dataframe thead th {\n",
       "        text-align: right;\n",
       "    }\n",
       "</style>\n",
       "<table border=\"1\" class=\"dataframe\">\n",
       "  <thead>\n",
       "    <tr style=\"text-align: right;\">\n",
       "      <th></th>\n",
       "      <th>search_query</th>\n",
       "      <th>embedding</th>\n",
       "    </tr>\n",
       "  </thead>\n",
       "  <tbody>\n",
       "    <tr>\n",
       "      <th>0</th>\n",
       "      <td>What is the main plot of the first Harry Potte...</td>\n",
       "      <td>[0.015947405248880386, -0.05834364891052246, 0...</td>\n",
       "    </tr>\n",
       "    <tr>\n",
       "      <th>1</th>\n",
       "      <td>Who are the main characters in Harry Potter an...</td>\n",
       "      <td>[-7.944405660964549e-05, -0.015836382284760475...</td>\n",
       "    </tr>\n",
       "    <tr>\n",
       "      <th>2</th>\n",
       "      <td>What is the significance of the Sorting Hat in...</td>\n",
       "      <td>[0.018047716468572617, -0.04168352112174034, -...</td>\n",
       "    </tr>\n",
       "    <tr>\n",
       "      <th>3</th>\n",
       "      <td>How does Harry Potter discover he is a wizard?</td>\n",
       "      <td>[0.0028701741248369217, -0.0003465288027655333...</td>\n",
       "    </tr>\n",
       "    <tr>\n",
       "      <th>4</th>\n",
       "      <td>What are the key differences between the book ...</td>\n",
       "      <td>[0.01255048904567957, -0.03629925847053528, -0...</td>\n",
       "    </tr>\n",
       "  </tbody>\n",
       "</table>\n",
       "</div>"
      ],
      "text/plain": [
       "                                        search_query  \\\n",
       "0  What is the main plot of the first Harry Potte...   \n",
       "1  Who are the main characters in Harry Potter an...   \n",
       "2  What is the significance of the Sorting Hat in...   \n",
       "3     How does Harry Potter discover he is a wizard?   \n",
       "4  What are the key differences between the book ...   \n",
       "\n",
       "                                           embedding  \n",
       "0  [0.015947405248880386, -0.05834364891052246, 0...  \n",
       "1  [-7.944405660964549e-05, -0.015836382284760475...  \n",
       "2  [0.018047716468572617, -0.04168352112174034, -...  \n",
       "3  [0.0028701741248369217, -0.0003465288027655333...  \n",
       "4  [0.01255048904567957, -0.03629925847053528, -0...  "
      ]
     },
     "execution_count": 85,
     "metadata": {},
     "output_type": "execute_result"
    }
   ],
   "source": [
    "from data_pipeline import get_embeddings\n",
    "if os.path.exists(\"search_queries.csv\"):\n",
    "    df_search_queries = pd.read_csv(\"search_queries.csv\")\n",
    "else:\n",
    "    # this may take a while\n",
    "    search_queries = json.load(open(\"test_data.json\"))[\"data\"]\n",
    "    df_search_queries = pd.DataFrame(search_queries, columns=[\"search_query\"])\n",
    "    df_search_queries[\"embedding\"] = df_search_queries[\"search_query\"].apply(lambda x: get_embeddings(x))\n",
    "    df_search_queries.to_csv(\"search_queries.csv\", index=False)\n",
    "df_search_queries.head()"
   ]
  },
  {
   "cell_type": "code",
   "execution_count": 86,
   "metadata": {},
   "outputs": [
    {
     "name": "stdout",
     "output_type": "stream",
     "text": [
      "The following indexes are available: ['baseline', 'binary-compression', 'no-stored', 'all-options-with-scalar', 'all-options-with-binary', 'scalar-oversampling-reranking', 'scalar-truncation', 'hf_embeddings', 'py_embeddings_scalar', 'py_embeddings_binary']\n"
     ]
    }
   ],
   "source": [
    "indexes = list(indexes_config.keys())\n",
    "print(f\"The following indexes are available: {indexes}\")"
   ]
  },
  {
   "cell_type": "code",
   "execution_count": 109,
   "metadata": {},
   "outputs": [],
   "source": [
    "def bytes_to_kb(bytes):\n",
    "    return round(bytes / 1024, 4)\n",
    "\n",
    "def bytes_to_mb(bytes):\n",
    "    return round(bytes / (1024 * 1024), 4)\n",
    "\n",
    "def find_storage_size_kb(index_name):\n",
    "    response = search_index_client.get_index_statistics(index_name)\n",
    "    return bytes_to_kb(response[\"storage_size\"]), bytes_to_kb(response[\"vector_index_size\"])\n",
    "\n",
    "index_sizes = [(find_storage_size_kb(index), index) for index in indexes]\n",
    "# index_sizes.sort(key=lambda item: item[0][0], reverse=True)\n",
    "\n",
    "data = []\n",
    "for ((storage_size, vector_size), index_name) in index_sizes:\n",
    "    data.append({\"Storage Size\": storage_size, \"Vector Size\": vector_size, \"Index Name\": index_name})"
   ]
  },
  {
   "cell_type": "code",
   "execution_count": 110,
   "metadata": {},
   "outputs": [],
   "source": [
    "def format_percentage_with_arrow(percentage):\n",
    "    if percentage > 0:\n",
    "        return f\"{percentage:.2f}% ▲\"\n",
    "    elif percentage < 0:\n",
    "        return f\"{percentage:.2f}% ▼\"\n",
    "    else:\n",
    "        return f\"{percentage:.2f}%\"\n",
    "\n",
    "df_summary = pd.DataFrame(data)\n",
    "# Calculate the reduction in storage size compared to baseline\n",
    "baseline_storage_size = df_summary.iloc[0][\"Storage Size\"]\n",
    "baseline_vector_size = df_summary.iloc[0][\"Vector Size\"]\n",
    "df_summary[\"% Impact on Storage\"] = 100 * (baseline_storage_size-df_summary[\"Storage Size\"]) / df_summary[\"Storage Size\"]\n",
    "df_summary[\"% Impact on Vector Size\"] = 100 * (baseline_vector_size - df_summary[\"Vector Size\"]) / df_summary[\"Vector Size\"]\n",
    "df_summary[\"% Impact on Storage\"] = df_summary[\"% Impact on Storage\"].apply(format_percentage_with_arrow)\n",
    "df_summary[\"% Impact on Vector Size\"] = df_summary[\"% Impact on Vector Size\"].apply(format_percentage_with_arrow)"
   ]
  },
  {
   "cell_type": "markdown",
   "metadata": {},
   "source": [
    "This table compares different vector compression techniques, highlighting their impact on storage and vector sizes. Here's a breakdown of its structure:\n",
    "\n",
    "1. **Columns:**\n",
    "   - **Storage Size:** Indicates the storage space (in some unit) consumed by the vectors after applying a particular compression method.\n",
    "   - **Vector Size:** Represents the size of individual vectors after compression.\n",
    "   - **Index Name:** Names of the compression methods or configurations being benchmarked (e.g., \"baseline,\" \"scalar-compression\").\n",
    "   - **% Reduction in Storage:** The percentage decrease in storage size compared to the baseline.\n",
    "   - **% Reduction in Vector Size:** The percentage decrease in vector size compared to the baseline.\n",
    "\n",
    "2. **Rows:**\n",
    "   - Each row represents a specific compression method or configuration. \n",
    "   - The \"baseline\" row (row 0) provides a reference point with no compression applied, against which all other methods are compared.\n",
    "\n",
    "3. **Observations:**\n",
    "   - Some methods, like \"binary-compression,\" achieve significant reductions in vector size.\n",
    "   - \"scalar-compression\" increases storage slightly (8.08%) while keeping vector size unchanged.\n",
    "   - \"py_embeddings_binary\" achieves the highest percentage reduction in storage (36.45%) with moderate vector size reduction.\n",
    "\n",
    "This table provides a clear comparison of trade-offs between storage efficiency and vector size reduction for various compression strategies. In the following sections we will compare the search scores, latency for each of the indexes."
   ]
  },
  {
   "cell_type": "code",
   "execution_count": 111,
   "metadata": {},
   "outputs": [
    {
     "name": "stdout",
     "output_type": "stream",
     "text": [
      "Summary of Index Sizes in KB\n"
     ]
    },
    {
     "data": {
      "text/html": [
       "<div>\n",
       "<style scoped>\n",
       "    .dataframe tbody tr th:only-of-type {\n",
       "        vertical-align: middle;\n",
       "    }\n",
       "\n",
       "    .dataframe tbody tr th {\n",
       "        vertical-align: top;\n",
       "    }\n",
       "\n",
       "    .dataframe thead th {\n",
       "        text-align: right;\n",
       "    }\n",
       "</style>\n",
       "<table border=\"1\" class=\"dataframe\">\n",
       "  <thead>\n",
       "    <tr style=\"text-align: right;\">\n",
       "      <th></th>\n",
       "      <th>Storage Size</th>\n",
       "      <th>Vector Size</th>\n",
       "      <th>Index Name</th>\n",
       "      <th>% Impact on Storage</th>\n",
       "      <th>% Impact on Vector Size</th>\n",
       "    </tr>\n",
       "  </thead>\n",
       "  <tbody>\n",
       "    <tr>\n",
       "      <th>0</th>\n",
       "      <td>3400.9199</td>\n",
       "      <td>302.5000</td>\n",
       "      <td>baseline</td>\n",
       "      <td>0.00%</td>\n",
       "      <td>0.00%</td>\n",
       "    </tr>\n",
       "    <tr>\n",
       "      <th>1</th>\n",
       "      <td>3412.5938</td>\n",
       "      <td>11.8750</td>\n",
       "      <td>binary-compression</td>\n",
       "      <td>-0.34% ▼</td>\n",
       "      <td>2447.37% ▲</td>\n",
       "    </tr>\n",
       "    <tr>\n",
       "      <th>2</th>\n",
       "      <td>2748.5498</td>\n",
       "      <td>302.5000</td>\n",
       "      <td>no-stored</td>\n",
       "      <td>23.74% ▲</td>\n",
       "      <td>0.00%</td>\n",
       "    </tr>\n",
       "    <tr>\n",
       "      <th>3</th>\n",
       "      <td>2751.7832</td>\n",
       "      <td>152.5000</td>\n",
       "      <td>all-options-with-scalar</td>\n",
       "      <td>23.59% ▲</td>\n",
       "      <td>98.36% ▲</td>\n",
       "    </tr>\n",
       "    <tr>\n",
       "      <th>4</th>\n",
       "      <td>2610.2666</td>\n",
       "      <td>11.8750</td>\n",
       "      <td>all-options-with-binary</td>\n",
       "      <td>30.29% ▲</td>\n",
       "      <td>2447.37% ▲</td>\n",
       "    </tr>\n",
       "    <tr>\n",
       "      <th>5</th>\n",
       "      <td>2751.7832</td>\n",
       "      <td>152.5000</td>\n",
       "      <td>scalar-oversampling-reranking</td>\n",
       "      <td>23.59% ▲</td>\n",
       "      <td>98.36% ▲</td>\n",
       "    </tr>\n",
       "    <tr>\n",
       "      <th>6</th>\n",
       "      <td>2751.7832</td>\n",
       "      <td>152.5000</td>\n",
       "      <td>scalar-truncation</td>\n",
       "      <td>23.59% ▲</td>\n",
       "      <td>98.36% ▲</td>\n",
       "    </tr>\n",
       "    <tr>\n",
       "      <th>7</th>\n",
       "      <td>2563.9229</td>\n",
       "      <td>40.0195</td>\n",
       "      <td>hf_embeddings</td>\n",
       "      <td>32.65% ▲</td>\n",
       "      <td>655.88% ▲</td>\n",
       "    </tr>\n",
       "    <tr>\n",
       "      <th>8</th>\n",
       "      <td>2470.5879</td>\n",
       "      <td>11.8945</td>\n",
       "      <td>py_embeddings_scalar</td>\n",
       "      <td>37.66% ▲</td>\n",
       "      <td>2443.19% ▲</td>\n",
       "    </tr>\n",
       "    <tr>\n",
       "      <th>9</th>\n",
       "      <td>2412.6826</td>\n",
       "      <td>11.7578</td>\n",
       "      <td>py_embeddings_binary</td>\n",
       "      <td>40.96% ▲</td>\n",
       "      <td>2472.76% ▲</td>\n",
       "    </tr>\n",
       "  </tbody>\n",
       "</table>\n",
       "</div>"
      ],
      "text/plain": [
       "   Storage Size  Vector Size                     Index Name  \\\n",
       "0     3400.9199     302.5000                       baseline   \n",
       "1     3412.5938      11.8750             binary-compression   \n",
       "2     2748.5498     302.5000                      no-stored   \n",
       "3     2751.7832     152.5000        all-options-with-scalar   \n",
       "4     2610.2666      11.8750        all-options-with-binary   \n",
       "5     2751.7832     152.5000  scalar-oversampling-reranking   \n",
       "6     2751.7832     152.5000              scalar-truncation   \n",
       "7     2563.9229      40.0195                  hf_embeddings   \n",
       "8     2470.5879      11.8945           py_embeddings_scalar   \n",
       "9     2412.6826      11.7578           py_embeddings_binary   \n",
       "\n",
       "  % Impact on Storage % Impact on Vector Size  \n",
       "0               0.00%                   0.00%  \n",
       "1            -0.34% ▼              2447.37% ▲  \n",
       "2            23.74% ▲                   0.00%  \n",
       "3            23.59% ▲                98.36% ▲  \n",
       "4            30.29% ▲              2447.37% ▲  \n",
       "5            23.59% ▲                98.36% ▲  \n",
       "6            23.59% ▲                98.36% ▲  \n",
       "7            32.65% ▲               655.88% ▲  \n",
       "8            37.66% ▲              2443.19% ▲  \n",
       "9            40.96% ▲              2472.76% ▲  "
      ]
     },
     "execution_count": 111,
     "metadata": {},
     "output_type": "execute_result"
    }
   ],
   "source": [
    "print(f\"Summary of Index Sizes in KB\")\n",
    "df_summary.head(15)"
   ]
  },
  {
   "cell_type": "markdown",
   "metadata": {},
   "source": [
    "The following images compares `Storage Size` across different vector compression techniques"
   ]
  },
  {
   "cell_type": "code",
   "execution_count": 112,
   "metadata": {},
   "outputs": [
    {
     "data": {
      "text/plain": [
       "<matplotlib.legend.Legend at 0x2251719d610>"
      ]
     },
     "execution_count": 112,
     "metadata": {},
     "output_type": "execute_result"
    },
    {
     "data": {
      "image/png": "[encoded data removed]",
      "text/plain": [
       "<Figure size 800x500 with 1 Axes>"
      ]
     },
     "metadata": {},
     "output_type": "display_data"
    }
   ],
   "source": [
    "# show the storage size and vector size of the indexes by index name\n",
    "df_summary.plot(x=\"Index Name\", y=[\"Storage Size\"], kind=\"barh\", figsize=(8, 5))\n",
    "plt.axvline(baseline_storage_size, color=\"red\", linestyle=\"--\", label=\"Baseline\")\n",
    "plt.axvline(df_summary[\"Storage Size\"].min(), color=\"green\", linestyle=\"--\", label=\"Lowest\")\n",
    "plt.axvline(df_summary[\"Storage Size\"].max(), color=\"blue\", linestyle=\"--\", label=\"Highest\")\n",
    "plt.xlabel(\"Storage Size (KB)\")\n",
    "plt.legend()"
   ]
  },
  {
   "cell_type": "markdown",
   "metadata": {},
   "source": [
    "The following images compares `Vector Size` across different vector compression techniques"
   ]
  },
  {
   "cell_type": "code",
   "execution_count": 113,
   "metadata": {},
   "outputs": [
    {
     "data": {
      "text/plain": [
       "<matplotlib.legend.Legend at 0x225172bd610>"
      ]
     },
     "execution_count": 113,
     "metadata": {},
     "output_type": "execute_result"
    },
    {
     "data": {
      "image/png": "[encoded data removed]",
      "text/plain": [
       "<Figure size 800x500 with 1 Axes>"
      ]
     },
     "metadata": {},
     "output_type": "display_data"
    }
   ],
   "source": [
    "# show the storage size and vector size of the indexes by index name\n",
    "df_summary.plot(x=\"Index Name\", y=[\"Vector Size\"], kind=\"barh\", figsize=(8, 5))\n",
    "plt.axvline(baseline_vector_size, color=\"red\", linestyle=\"--\", label=\"Baseline\")\n",
    "plt.axvline(df_summary[\"Vector Size\"].min(), color=\"green\", linestyle=\"--\", label=\"Lowest\")\n",
    "plt.axvline(df_summary[\"Vector Size\"].max(), color=\"blue\", linestyle=\"--\", label=\"Highest\")\n",
    "plt.xlabel(\"Vector Size (KB)\")\n",
    "plt.legend()"
   ]
  },
  {
   "cell_type": "code",
   "execution_count": 114,
   "metadata": {},
   "outputs": [],
   "source": [
    "import concurrent.futures\n",
    "from azure.search.documents.models import VectorizedQuery\n",
    "\n",
    "def hybrid_search(search_client, query, embedding):\n",
    "    start = time.time()\n",
    "    vector_query = VectorizedQuery(vector=embedding, fields=\"embedding\", k_nearest_neighbors=3)\n",
    "    results = search_client.search(search_text=query, \n",
    "                                   vector_queries=[vector_query],\n",
    "                                   select=[\"content_vector\", \"content\"],\n",
    "                                   top=1)\n",
    "    text = \"\"\n",
    "    for res in results:\n",
    "        text, score = res[\"content\"], res[\"@search.score\"]\n",
    "    end = time.time()\n",
    "    return text, float(score), float(end-start)\n",
    "\n",
    "def search_docs(search_client, search_text):\n",
    "    search_text = search_text.replace(\"\\\"\", \"\")\n",
    "    start = time.time()\n",
    "    results = search_client.search(search_text=search_text, top=1)\n",
    "    text = \"\"\n",
    "    for res in results:\n",
    "        text, score = res[\"content\"], res[\"@search.score\"]\n",
    "    end = time.time()\n",
    "    return text, float(score), float(end-start)\n",
    "\n",
    "def perform_search(index, number_of_trials, search_queries):\n",
    "    results = []\n",
    "    search_client = SearchClient(endpoint=search_service_endpoint, index_name=index, credential=AzureKeyCredential(search_service_key))\n",
    "    for _ in range(number_of_trials):\n",
    "        random = np.random.randint(0, len(search_queries))\n",
    "        # get random row from python dataframe\n",
    "        row = search_queries.iloc[random]\n",
    "        search_text = row[\"search_query\"] if not use_hybrid_search else row[\"embedding\"]\n",
    "        text, score, tt = search_docs(search_client, search_text) if not use_hybrid_search else hybrid_search(search_client, search_text)\n",
    "        results.append({\"search_text\": search_text, \"search_results_text\": text, \"search_results_score\": score, \"search_results_time\": tt, \"index\": index})\n",
    "    return results\n",
    "\n",
    "# Test the search performance of the indexes\n",
    "# search_client = SearchClient(endpoint=search_service_endpoint, index_name=indexes[0], credential=AzureKeyCredential(search_service_key))\n",
    "# result = hybrid_search(search_client, df_search_queries.iloc[0][\"search_query\"], df_search_queries.iloc[0][\"embedding\"])"
   ]
  },
  {
   "cell_type": "code",
   "execution_count": 115,
   "metadata": {},
   "outputs": [
    {
     "name": "stderr",
     "output_type": "stream",
     "text": [
      "100%|██████████| 10/10 [00:00<00:00, 14.16it/s]\n"
     ]
    },
    {
     "data": {
      "text/html": [
       "<div>\n",
       "<style scoped>\n",
       "    .dataframe tbody tr th:only-of-type {\n",
       "        vertical-align: middle;\n",
       "    }\n",
       "\n",
       "    .dataframe tbody tr th {\n",
       "        vertical-align: top;\n",
       "    }\n",
       "\n",
       "    .dataframe thead th {\n",
       "        text-align: right;\n",
       "    }\n",
       "</style>\n",
       "<table border=\"1\" class=\"dataframe\">\n",
       "  <thead>\n",
       "    <tr style=\"text-align: right;\">\n",
       "      <th></th>\n",
       "      <th>search_text</th>\n",
       "      <th>search_results_text</th>\n",
       "      <th>search_results_score</th>\n",
       "      <th>search_results_time</th>\n",
       "      <th>index</th>\n",
       "    </tr>\n",
       "  </thead>\n",
       "  <tbody>\n",
       "    <tr>\n",
       "      <th>0</th>\n",
       "      <td>What is the significance of the Sorting Hat in...</td>\n",
       "      <td>And something was stirring inside the statue’...</td>\n",
       "      <td>5.528351</td>\n",
       "      <td>0.134672</td>\n",
       "      <td>hf_embeddings</td>\n",
       "    </tr>\n",
       "    <tr>\n",
       "      <th>1</th>\n",
       "      <td>How does J.K. Rowling develop the magical worl...</td>\n",
       "      <td>Harry Potter and the Chamber of Secrets  by  J...</td>\n",
       "      <td>6.086375</td>\n",
       "      <td>0.083863</td>\n",
       "      <td>hf_embeddings</td>\n",
       "    </tr>\n",
       "    <tr>\n",
       "      <th>2</th>\n",
       "      <td>What is the main plot of the first Harry Potte...</td>\n",
       "      <td>d live many hundreds of years, is born from a ...</td>\n",
       "      <td>4.860774</td>\n",
       "      <td>0.057365</td>\n",
       "      <td>hf_embeddings</td>\n",
       "    </tr>\n",
       "    <tr>\n",
       "      <th>3</th>\n",
       "      <td>How does J.K. Rowling develop the magical worl...</td>\n",
       "      <td>Harry Potter and the Chamber of Secrets  by  J...</td>\n",
       "      <td>6.086375</td>\n",
       "      <td>0.051661</td>\n",
       "      <td>hf_embeddings</td>\n",
       "    </tr>\n",
       "    <tr>\n",
       "      <th>4</th>\n",
       "      <td>Who are the main characters in Harry Potter an...</td>\n",
       "      <td>h the school so alert and suspicious. Perhaps ...</td>\n",
       "      <td>4.968647</td>\n",
       "      <td>0.039246</td>\n",
       "      <td>hf_embeddings</td>\n",
       "    </tr>\n",
       "  </tbody>\n",
       "</table>\n",
       "</div>"
      ],
      "text/plain": [
       "                                         search_text  \\\n",
       "0  What is the significance of the Sorting Hat in...   \n",
       "1  How does J.K. Rowling develop the magical worl...   \n",
       "2  What is the main plot of the first Harry Potte...   \n",
       "3  How does J.K. Rowling develop the magical worl...   \n",
       "4  Who are the main characters in Harry Potter an...   \n",
       "\n",
       "                                 search_results_text  search_results_score  \\\n",
       "0   And something was stirring inside the statue’...              5.528351   \n",
       "1  Harry Potter and the Chamber of Secrets  by  J...              6.086375   \n",
       "2  d live many hundreds of years, is born from a ...              4.860774   \n",
       "3  Harry Potter and the Chamber of Secrets  by  J...              6.086375   \n",
       "4  h the school so alert and suspicious. Perhaps ...              4.968647   \n",
       "\n",
       "   search_results_time          index  \n",
       "0             0.134672  hf_embeddings  \n",
       "1             0.083863  hf_embeddings  \n",
       "2             0.057365  hf_embeddings  \n",
       "3             0.051661  hf_embeddings  \n",
       "4             0.039246  hf_embeddings  "
      ]
     },
     "execution_count": 115,
     "metadata": {},
     "output_type": "execute_result"
    }
   ],
   "source": [
    "pd.DataFrame()\n",
    "number_of_trials = 10\n",
    "# Run in parallel\n",
    "all_results = []\n",
    "with concurrent.futures.ThreadPoolExecutor() as executor:\n",
    "    future_to_index = {executor.submit(perform_search, index, number_of_trials, df_search_queries): index for index in indexes}\n",
    "    for future in tqdm(concurrent.futures.as_completed(future_to_index), total=len(indexes)):\n",
    "        all_results.extend(future.result())\n",
    "\n",
    "# Convert to DataFrame\n",
    "results_df = pd.DataFrame(all_results)\n",
    "results_df.head()"
   ]
  },
  {
   "cell_type": "code",
   "execution_count": 116,
   "metadata": {},
   "outputs": [
    {
     "data": {
      "text/plain": [
       "Text(0.5, 0, 'Search Time (s)')"
      ]
     },
     "execution_count": 116,
     "metadata": {},
     "output_type": "execute_result"
    },
    {
     "data": {
      "image/png": "[encoded data removed]",
      "text/plain": [
       "<Figure size 500x500 with 1 Axes>"
      ]
     },
     "metadata": {},
     "output_type": "display_data"
    }
   ],
   "source": [
    "results_df.groupby(\"index\")[\"search_results_time\"].agg([\"min\", \"max\", \"mean\"]).plot(kind=\"barh\", figsize=(5, 5))\n",
    "plt.xlabel(\"Search Time (s)\")"
   ]
  },
  {
   "cell_type": "code",
   "execution_count": 117,
   "metadata": {},
   "outputs": [
    {
     "data": {
      "text/plain": [
       "Text(0.5, 0, 'Search Score (s)')"
      ]
     },
     "execution_count": 117,
     "metadata": {},
     "output_type": "execute_result"
    },
    {
     "data": {
      "image/png": "[encoded data removed]",
      "text/plain": [
       "<Figure size 800x500 with 1 Axes>"
      ]
     },
     "metadata": {},
     "output_type": "display_data"
    }
   ],
   "source": [
    "results_df.groupby(\"index\")[\"search_results_score\"].agg([\"mean\"]).plot(kind=\"barh\", figsize=(8, 5))\n",
    "# highest score is the best\n",
    "plt.axvline(results_df[\"search_results_score\"].mean(), color=\"red\", linestyle=\"--\", label=\"Highest\")\n",
    "plt.xlabel(\"Search Score (s)\")"
   ]
  },
  {
   "cell_type": "markdown",
   "metadata": {},
   "source": [
    "#### Summary\n",
    "\n",
    "This table summarizes data about various compression methods for Azure AI search system. Here's a breakdown of each column:\n",
    "\n",
    "1. **Storage Size**: The amount of storage space (in some unit) required for each indexing method.\n",
    "2. **Vector Size**: The size of the vectors used in the index, which affects performance.\n",
    "3. **Index Name**: The name of each indexing method or configuration.\n",
    "4. **% Reduction in Storage**: How much the storage size is reduced compared to a baseline index.\n",
    "5. **% Reduction in Vector Size**: The percentage reduction in vector size relative to the baseline.\n",
    "6. **Average Search Time (s)**: The time it takes, on average, to perform a search using the index.\n",
    "7. **Average Search Score**: A measure of the search quality or relevance for each method.\n",
    "\n",
    "Each row corresponds to a different indexing approach or configuration with its respective metrics. Let me know if you need more specific insights!"
   ]
  },
  {
   "cell_type": "code",
   "execution_count": 118,
   "metadata": {},
   "outputs": [
    {
     "data": {
      "text/html": [
       "<div>\n",
       "<style scoped>\n",
       "    .dataframe tbody tr th:only-of-type {\n",
       "        vertical-align: middle;\n",
       "    }\n",
       "\n",
       "    .dataframe tbody tr th {\n",
       "        vertical-align: top;\n",
       "    }\n",
       "\n",
       "    .dataframe thead th {\n",
       "        text-align: right;\n",
       "    }\n",
       "</style>\n",
       "<table border=\"1\" class=\"dataframe\">\n",
       "  <thead>\n",
       "    <tr style=\"text-align: right;\">\n",
       "      <th></th>\n",
       "      <th>Storage Size</th>\n",
       "      <th>Vector Size</th>\n",
       "      <th>Index Name</th>\n",
       "      <th>% Impact on Storage</th>\n",
       "      <th>% Impact on Vector Size</th>\n",
       "      <th>Average Search Time (s)</th>\n",
       "      <th>Average Search Score</th>\n",
       "    </tr>\n",
       "  </thead>\n",
       "  <tbody>\n",
       "    <tr>\n",
       "      <th>0</th>\n",
       "      <td>3400.9199</td>\n",
       "      <td>302.5000</td>\n",
       "      <td>baseline</td>\n",
       "      <td>0.00%</td>\n",
       "      <td>0.00%</td>\n",
       "      <td>0.073193</td>\n",
       "      <td>5.802669</td>\n",
       "    </tr>\n",
       "    <tr>\n",
       "      <th>1</th>\n",
       "      <td>3412.5938</td>\n",
       "      <td>11.8750</td>\n",
       "      <td>binary-compression</td>\n",
       "      <td>-0.34% ▼</td>\n",
       "      <td>2447.37% ▲</td>\n",
       "      <td>0.067444</td>\n",
       "      <td>5.479728</td>\n",
       "    </tr>\n",
       "    <tr>\n",
       "      <th>2</th>\n",
       "      <td>2748.5498</td>\n",
       "      <td>302.5000</td>\n",
       "      <td>no-stored</td>\n",
       "      <td>23.74% ▲</td>\n",
       "      <td>0.00%</td>\n",
       "      <td>0.070273</td>\n",
       "      <td>5.324842</td>\n",
       "    </tr>\n",
       "    <tr>\n",
       "      <th>3</th>\n",
       "      <td>2751.7832</td>\n",
       "      <td>152.5000</td>\n",
       "      <td>all-options-with-scalar</td>\n",
       "      <td>23.59% ▲</td>\n",
       "      <td>98.36% ▲</td>\n",
       "      <td>0.070858</td>\n",
       "      <td>5.353785</td>\n",
       "    </tr>\n",
       "    <tr>\n",
       "      <th>4</th>\n",
       "      <td>2610.2666</td>\n",
       "      <td>11.8750</td>\n",
       "      <td>all-options-with-binary</td>\n",
       "      <td>30.29% ▲</td>\n",
       "      <td>2447.37% ▲</td>\n",
       "      <td>0.067570</td>\n",
       "      <td>5.344018</td>\n",
       "    </tr>\n",
       "    <tr>\n",
       "      <th>5</th>\n",
       "      <td>2751.7832</td>\n",
       "      <td>152.5000</td>\n",
       "      <td>scalar-oversampling-reranking</td>\n",
       "      <td>23.59% ▲</td>\n",
       "      <td>98.36% ▲</td>\n",
       "      <td>0.072175</td>\n",
       "      <td>5.037520</td>\n",
       "    </tr>\n",
       "    <tr>\n",
       "      <th>6</th>\n",
       "      <td>2751.7832</td>\n",
       "      <td>152.5000</td>\n",
       "      <td>scalar-truncation</td>\n",
       "      <td>23.59% ▲</td>\n",
       "      <td>98.36% ▲</td>\n",
       "      <td>0.068992</td>\n",
       "      <td>5.696125</td>\n",
       "    </tr>\n",
       "    <tr>\n",
       "      <th>7</th>\n",
       "      <td>2563.9229</td>\n",
       "      <td>40.0195</td>\n",
       "      <td>hf_embeddings</td>\n",
       "      <td>32.65% ▲</td>\n",
       "      <td>655.88% ▲</td>\n",
       "      <td>0.064940</td>\n",
       "      <td>5.345249</td>\n",
       "    </tr>\n",
       "    <tr>\n",
       "      <th>8</th>\n",
       "      <td>2470.5879</td>\n",
       "      <td>11.8945</td>\n",
       "      <td>py_embeddings_scalar</td>\n",
       "      <td>37.66% ▲</td>\n",
       "      <td>2443.19% ▲</td>\n",
       "      <td>0.070641</td>\n",
       "      <td>5.813660</td>\n",
       "    </tr>\n",
       "    <tr>\n",
       "      <th>9</th>\n",
       "      <td>2412.6826</td>\n",
       "      <td>11.7578</td>\n",
       "      <td>py_embeddings_binary</td>\n",
       "      <td>40.96% ▲</td>\n",
       "      <td>2472.76% ▲</td>\n",
       "      <td>0.070037</td>\n",
       "      <td>5.624548</td>\n",
       "    </tr>\n",
       "  </tbody>\n",
       "</table>\n",
       "</div>"
      ],
      "text/plain": [
       "   Storage Size  Vector Size                     Index Name  \\\n",
       "0     3400.9199     302.5000                       baseline   \n",
       "1     3412.5938      11.8750             binary-compression   \n",
       "2     2748.5498     302.5000                      no-stored   \n",
       "3     2751.7832     152.5000        all-options-with-scalar   \n",
       "4     2610.2666      11.8750        all-options-with-binary   \n",
       "5     2751.7832     152.5000  scalar-oversampling-reranking   \n",
       "6     2751.7832     152.5000              scalar-truncation   \n",
       "7     2563.9229      40.0195                  hf_embeddings   \n",
       "8     2470.5879      11.8945           py_embeddings_scalar   \n",
       "9     2412.6826      11.7578           py_embeddings_binary   \n",
       "\n",
       "  % Impact on Storage % Impact on Vector Size  Average Search Time (s)  \\\n",
       "0               0.00%                   0.00%                 0.073193   \n",
       "1            -0.34% ▼              2447.37% ▲                 0.067444   \n",
       "2            23.74% ▲                   0.00%                 0.070273   \n",
       "3            23.59% ▲                98.36% ▲                 0.070858   \n",
       "4            30.29% ▲              2447.37% ▲                 0.067570   \n",
       "5            23.59% ▲                98.36% ▲                 0.072175   \n",
       "6            23.59% ▲                98.36% ▲                 0.068992   \n",
       "7            32.65% ▲               655.88% ▲                 0.064940   \n",
       "8            37.66% ▲              2443.19% ▲                 0.070641   \n",
       "9            40.96% ▲              2472.76% ▲                 0.070037   \n",
       "\n",
       "   Average Search Score  \n",
       "0              5.802669  \n",
       "1              5.479728  \n",
       "2              5.324842  \n",
       "3              5.353785  \n",
       "4              5.344018  \n",
       "5              5.037520  \n",
       "6              5.696125  \n",
       "7              5.345249  \n",
       "8              5.813660  \n",
       "9              5.624548  "
      ]
     },
     "execution_count": 118,
     "metadata": {},
     "output_type": "execute_result"
    }
   ],
   "source": [
    "# for each index in df_summary, calculate the average search time\n",
    "df_summary[\"Average Search Time (s)\"] = 0.0\n",
    "df_summary[\"Average Search Score\"] = 0.0\n",
    "for index in indexes:\n",
    "    df_summary.loc[df_summary[\"Index Name\"] == index, \"Average Search Time (s)\"] = results_df[results_df[\"index\"] == index][\"search_results_time\"].mean()\n",
    "    df_summary.loc[df_summary[\"Index Name\"] == index, \"Average Search Score\"] = results_df[results_df[\"index\"] == index][\"search_results_score\"].mean()\n",
    "df_summary.head(15)"
   ]
  },
  {
   "cell_type": "markdown",
   "metadata": {},
   "source": [
    "#### Mercury with your notebooks\n",
    "\n",
    "To run Mercury with your notebook, please execute the following:\n",
    "\n",
    "```\n",
    "mercury run\n",
    "```\n",
    "\n",
    "Mercury is used to turn this Python Notebook into a interactive Web App. You can change code in Jupyter Notebook, and Mercury will instantly update web app. <br/>\n",
    "Please check http://127.0.0.1:8000 to see demo notebooks.\n",
    "\n"
   ]
  },
  {
   "cell_type": "code",
   "execution_count": 121,
   "metadata": {},
   "outputs": [
    {
     "data": {
      "application/mercury+json": {
       "allow_download": true,
       "allow_share": true,
       "code_uid": "App.0.50.110.2-rand375f6dc1",
       "continuous_update": true,
       "description": "Compare the performance of different vector compression techniques with Azure AI Search",
       "full_screen": true,
       "model_id": "mercury-app",
       "notify": "{}",
       "output": "app",
       "schedule": "",
       "show_code": false,
       "show_prompt": false,
       "show_sidebar": true,
       "static_notebook": false,
       "stop_on_error": false,
       "title": "Vector Compression Techniques with Azure AI Search",
       "widget": "App"
      },
      "text/html": [
       "<h3>Mercury Application</h3><small>This output won't appear in the web app.</small>"
      ],
      "text/plain": [
       "mercury.App"
      ]
     },
     "metadata": {},
     "output_type": "display_data"
    },
    {
     "data": {
      "application/mercury+json": {
       "choices": [
        "baseline",
        "binary-compression",
        "no-stored",
        "all-options-with-scalar",
        "all-options-with-binary",
        "scalar-oversampling-reranking",
        "scalar-truncation",
        "hf_embeddings",
        "py_embeddings_scalar",
        "py_embeddings_binary"
       ],
       "code_uid": "MultiSelect.0.50.91.3-randb48028f0",
       "disabled": false,
       "hidden": false,
       "label": "Please select Indexes for comparison",
       "model_id": "00fe87f65eaf4c64ba59c17b0a9a9fc1",
       "url_key": "",
       "value": [
        "baseline",
        "binary-compression"
       ],
       "widget": "MultiSelect"
      },
      "application/vnd.jupyter.widget-view+json": {
       "model_id": "00fe87f65eaf4c64ba59c17b0a9a9fc1",
       "version_major": 2,
       "version_minor": 0
      },
      "text/plain": [
       "mercury.MultiSelect"
      ]
     },
     "metadata": {},
     "output_type": "display_data"
    },
    {
     "data": {
      "application/mercury+json": {
       "choices": [
        "Storage Size",
        "Vector Size",
        "% Reduction in Storage",
        "% Reduction in Vector Size",
        "Average Search Time (s)",
        "Average Search Score"
       ],
       "code_uid": "MultiSelect.0.50.91.9-rand1dab9935",
       "disabled": false,
       "hidden": false,
       "label": "Please select Metrics for comparison",
       "model_id": "e7cc41644aa44ac696722a8bcd7e1007",
       "url_key": "",
       "value": [
        "Average Search Time (s)"
       ],
       "widget": "MultiSelect"
      },
      "application/vnd.jupyter.widget-view+json": {
       "model_id": "e7cc41644aa44ac696722a8bcd7e1007",
       "version_major": 2,
       "version_minor": 0
      },
      "text/plain": [
       "mercury.MultiSelect"
      ]
     },
     "metadata": {},
     "output_type": "display_data"
    }
   ],
   "source": [
    "import mercury as mr\n",
    "app = mr.App(title=\"Vector Compression Techniques with Azure AI Search\", description=\"Compare the performance of different vector compression techniques with Azure AI Search\")\n",
    "selected_indexes = mr.MultiSelect(label=\"Please select Indexes for comparison\", \n",
    "                          value=[\"baseline\", \"binary-compression\"], \n",
    "                          choices=indexes)\n",
    "\n",
    "metrics = [\"Storage Size\", \"Vector Size\", \"% Reduction in Storage\", \"% Reduction in Vector Size\", \"Average Search Time (s)\", \"Average Search Score\"]\n",
    "\n",
    "selected_metrics = mr.MultiSelect(label=\"Please select Metrics for comparison\", \n",
    "                          value=[\"Average Search Time (s)\"], \n",
    "                          choices=metrics)"
   ]
  },
  {
   "cell_type": "code",
   "execution_count": 122,
   "metadata": {},
   "outputs": [
    {
     "name": "stdout",
     "output_type": "stream",
     "text": [
      "['Average Search Time (s)']\n",
      "['baseline', 'binary-compression']\n"
     ]
    },
    {
     "data": {
      "image/png": "[encoded data removed]",
      "text/plain": [
       "<Figure size 800x500 with 1 Axes>"
      ]
     },
     "metadata": {},
     "output_type": "display_data"
    }
   ],
   "source": [
    "\n",
    "print(selected_metrics.value)\n",
    "print(selected_indexes.value)\n",
    "# filter by selected indexes\n",
    "df_summary_filtered = df_summary[df_summary[\"Index Name\"].isin(selected_indexes.value)]\n",
    "df_summary_filtered.groupby(\"Index Name\")[selected_metrics.value].agg([\"mean\"]).plot(kind=\"barh\", figsize=(8, 5))\n",
    "# show values on the bars\n",
    "for index, row in df_summary_filtered.iterrows():\n",
    "    for metric in selected_metrics.value:\n",
    "        plt.text(row[metric], index, round(row[metric], 2))"
   ]
  },
  {
   "cell_type": "markdown",
   "metadata": {},
   "source": [
    "#### Response Relevance with RAG\n",
    "\n",
    "The following section calculates the `response relevance` scores, when the retrieved context from each of the indexes is used to perform RAG.\n",
    "The ResponseRelevancy metric measures how relevant a response is to the user input. Higher scores indicate better alignment with the user input, while lower scores are given if the response is incomplete or includes redundant information."
   ]
  },
  {
   "cell_type": "code",
   "execution_count": null,
   "metadata": {},
   "outputs": [
    {
     "name": "stderr",
     "output_type": "stream",
     "text": [
      "c:\\code\\techconnect2025\\vector-opt-ai-search\\.venv\\Lib\\site-packages\\langsmith\\client.py:253: LangSmithMissingAPIKeyWarning: API key must be provided when using hosted LangSmith API\n",
      "  warnings.warn(\n"
     ]
    }
   ],
   "source": [
    "from langchain_openai import AzureChatOpenAI\n",
    "from langchain import hub\n",
    "from langchain.chains import RetrievalQA\n",
    "from langchain.retrievers.azure_ai_search import AzureAISearchRetriever\n",
    "from langchain.retrievers.azure_ai_search import AzureAISearchRetriever\n",
    "from langchain_openai import AzureChatOpenAI\n",
    "from langchain.chains import RetrievalQA\n",
    "from langchain import hub\n",
    "\n",
    "prompt = hub.pull(\"rlm/rag-prompt\", api_url=\"https://api.hub.langchain.com\")\n",
    "\n",
    "def query_index(index_name: str, query: str):\n",
    "    retriever = AzureAISearchRetriever(\n",
    "        service_name=search_service_endpoint,\n",
    "        api_key=search_service_key,\n",
    "        index_name=index_name,\n",
    "        content_key=\"content\",\n",
    "        top_k=2\n",
    "    )\n",
    "\n",
    "    chat_llm = AzureChatOpenAI(\n",
    "        openai_api_version=\"2024-05-01-preview\",\n",
    "        api_key=azure_openai_key,\n",
    "        azure_endpoint=azure_openai_endpoint,\n",
    "        azure_deployment=azure_openai_gpt_deployment,\n",
    "        temperature=0.0,\n",
    "    )\n",
    "\n",
    "    qa = RetrievalQA.from_chain_type(\n",
    "        llm=chat_llm,\n",
    "        chain_type=\"stuff\",\n",
    "        retriever=retriever,\n",
    "        return_source_documents=True,\n",
    "        chain_type_kwargs={\n",
    "            \"prompt\": prompt,\n",
    "        },\n",
    "    )\n",
    "\n",
    "    response = qa.invoke({\"query\": query})\n",
    "    return response['result']\n",
    "\n",
    "answers = []\n",
    "query = \"Who are the main characters in Harry Potter and the Philosopher's Stone?\"\n",
    "for index in indexes:\n",
    "    answers.append({\"index\": index, \"query\": query, \"answer\": query_index(index, query)})\n",
    "df = pd.DataFrame(answers)"
   ]
  },
  {
   "cell_type": "code",
   "execution_count": 132,
   "metadata": {},
   "outputs": [
    {
     "data": {
      "text/html": [
       "<div>\n",
       "<style scoped>\n",
       "    .dataframe tbody tr th:only-of-type {\n",
       "        vertical-align: middle;\n",
       "    }\n",
       "\n",
       "    .dataframe tbody tr th {\n",
       "        vertical-align: top;\n",
       "    }\n",
       "\n",
       "    .dataframe thead th {\n",
       "        text-align: right;\n",
       "    }\n",
       "</style>\n",
       "<table border=\"1\" class=\"dataframe\">\n",
       "  <thead>\n",
       "    <tr style=\"text-align: right;\">\n",
       "      <th></th>\n",
       "      <th>index</th>\n",
       "      <th>query</th>\n",
       "      <th>answer</th>\n",
       "    </tr>\n",
       "  </thead>\n",
       "  <tbody>\n",
       "    <tr>\n",
       "      <th>0</th>\n",
       "      <td>baseline</td>\n",
       "      <td>Who are the main characters in Harry Potter and the Philosopher's Stone?</td>\n",
       "      <td>The main characters in \"Harry Potter and the Philosopher's Stone\" are Harry Potter, Hermione Granger, and Ron Weasley.</td>\n",
       "    </tr>\n",
       "    <tr>\n",
       "      <th>1</th>\n",
       "      <td>binary-compression</td>\n",
       "      <td>Who are the main characters in Harry Potter and the Philosopher's Stone?</td>\n",
       "      <td>The main characters in \"Harry Potter and the Philosopher's Stone\" are Harry Potter, Hermione Granger, and Ron Weasley.</td>\n",
       "    </tr>\n",
       "    <tr>\n",
       "      <th>2</th>\n",
       "      <td>no-stored</td>\n",
       "      <td>Who are the main characters in Harry Potter and the Philosopher's Stone?</td>\n",
       "      <td>The main characters in \"Harry Potter and the Philosopher's Stone\" are Harry Potter, Hermione Granger, and Ron Weasley.</td>\n",
       "    </tr>\n",
       "    <tr>\n",
       "      <th>3</th>\n",
       "      <td>all-options-with-scalar</td>\n",
       "      <td>Who are the main characters in Harry Potter and the Philosopher's Stone?</td>\n",
       "      <td>The main characters in \"Harry Potter and the Philosopher's Stone\" are Harry Potter, Hermione Granger, and Ron Weasley.</td>\n",
       "    </tr>\n",
       "    <tr>\n",
       "      <th>4</th>\n",
       "      <td>all-options-with-binary</td>\n",
       "      <td>Who are the main characters in Harry Potter and the Philosopher's Stone?</td>\n",
       "      <td>The main characters in \"Harry Potter and the Philosopher's Stone\" are Harry Potter, Hermione Granger, and Ron Weasley.</td>\n",
       "    </tr>\n",
       "    <tr>\n",
       "      <th>5</th>\n",
       "      <td>scalar-oversampling-reranking</td>\n",
       "      <td>Who are the main characters in Harry Potter and the Philosopher's Stone?</td>\n",
       "      <td>The main characters in \"Harry Potter and the Philosopher's Stone\" are Harry Potter, Hermione Granger, and Ron Weasley.</td>\n",
       "    </tr>\n",
       "    <tr>\n",
       "      <th>6</th>\n",
       "      <td>scalar-truncation</td>\n",
       "      <td>Who are the main characters in Harry Potter and the Philosopher's Stone?</td>\n",
       "      <td>The main characters in \"Harry Potter and the Philosopher's Stone\" are Harry Potter, Hermione Granger, and Ron Weasley.</td>\n",
       "    </tr>\n",
       "    <tr>\n",
       "      <th>7</th>\n",
       "      <td>hf_embeddings</td>\n",
       "      <td>Who are the main characters in Harry Potter and the Philosopher's Stone?</td>\n",
       "      <td>The main characters in \"Harry Potter and the Philosopher's Stone\" are Harry Potter, Hermione Granger, and Ron Weasley.</td>\n",
       "    </tr>\n",
       "    <tr>\n",
       "      <th>8</th>\n",
       "      <td>py_embeddings_scalar</td>\n",
       "      <td>Who are the main characters in Harry Potter and the Philosopher's Stone?</td>\n",
       "      <td>The main characters in \"Harry Potter and the Philosopher's Stone\" are Harry Potter, Hermione Granger, and Ron Weasley.</td>\n",
       "    </tr>\n",
       "    <tr>\n",
       "      <th>9</th>\n",
       "      <td>py_embeddings_binary</td>\n",
       "      <td>Who are the main characters in Harry Potter and the Philosopher's Stone?</td>\n",
       "      <td>The main characters in \"Harry Potter and the Philosopher's Stone\" are Harry Potter, Hermione Granger, and Ron Weasley.</td>\n",
       "    </tr>\n",
       "  </tbody>\n",
       "</table>\n",
       "</div>"
      ],
      "text/plain": [
       "                           index  \\\n",
       "0                       baseline   \n",
       "1             binary-compression   \n",
       "2                      no-stored   \n",
       "3        all-options-with-scalar   \n",
       "4        all-options-with-binary   \n",
       "5  scalar-oversampling-reranking   \n",
       "6              scalar-truncation   \n",
       "7                  hf_embeddings   \n",
       "8           py_embeddings_scalar   \n",
       "9           py_embeddings_binary   \n",
       "\n",
       "                                                                      query  \\\n",
       "0  Who are the main characters in Harry Potter and the Philosopher's Stone?   \n",
       "1  Who are the main characters in Harry Potter and the Philosopher's Stone?   \n",
       "2  Who are the main characters in Harry Potter and the Philosopher's Stone?   \n",
       "3  Who are the main characters in Harry Potter and the Philosopher's Stone?   \n",
       "4  Who are the main characters in Harry Potter and the Philosopher's Stone?   \n",
       "5  Who are the main characters in Harry Potter and the Philosopher's Stone?   \n",
       "6  Who are the main characters in Harry Potter and the Philosopher's Stone?   \n",
       "7  Who are the main characters in Harry Potter and the Philosopher's Stone?   \n",
       "8  Who are the main characters in Harry Potter and the Philosopher's Stone?   \n",
       "9  Who are the main characters in Harry Potter and the Philosopher's Stone?   \n",
       "\n",
       "                                                                                                                   answer  \n",
       "0  The main characters in \"Harry Potter and the Philosopher's Stone\" are Harry Potter, Hermione Granger, and Ron Weasley.  \n",
       "1  The main characters in \"Harry Potter and the Philosopher's Stone\" are Harry Potter, Hermione Granger, and Ron Weasley.  \n",
       "2  The main characters in \"Harry Potter and the Philosopher's Stone\" are Harry Potter, Hermione Granger, and Ron Weasley.  \n",
       "3  The main characters in \"Harry Potter and the Philosopher's Stone\" are Harry Potter, Hermione Granger, and Ron Weasley.  \n",
       "4  The main characters in \"Harry Potter and the Philosopher's Stone\" are Harry Potter, Hermione Granger, and Ron Weasley.  \n",
       "5  The main characters in \"Harry Potter and the Philosopher's Stone\" are Harry Potter, Hermione Granger, and Ron Weasley.  \n",
       "6  The main characters in \"Harry Potter and the Philosopher's Stone\" are Harry Potter, Hermione Granger, and Ron Weasley.  \n",
       "7  The main characters in \"Harry Potter and the Philosopher's Stone\" are Harry Potter, Hermione Granger, and Ron Weasley.  \n",
       "8  The main characters in \"Harry Potter and the Philosopher's Stone\" are Harry Potter, Hermione Granger, and Ron Weasley.  \n",
       "9  The main characters in \"Harry Potter and the Philosopher's Stone\" are Harry Potter, Hermione Granger, and Ron Weasley.  "
      ]
     },
     "execution_count": 132,
     "metadata": {},
     "output_type": "execute_result"
    }
   ],
   "source": [
    "pd.set_option('display.max_colwidth', None)\n",
    "df.head(15)"
   ]
  }
 ],
 "metadata": {
  "kernelspec": {
   "display_name": ".venv",
   "language": "python",
   "name": "python3"
  },
  "language_info": {
   "codemirror_mode": {
    "name": "ipython",
    "version": 3
   },
   "file_extension": ".py",
   "mimetype": "text/x-python",
   "name": "python",
   "nbconvert_exporter": "python",
   "pygments_lexer": "ipython3",
   "version": "3.11.9"
  }
 },
 "nbformat": 4,
 "nbformat_minor": 2
}

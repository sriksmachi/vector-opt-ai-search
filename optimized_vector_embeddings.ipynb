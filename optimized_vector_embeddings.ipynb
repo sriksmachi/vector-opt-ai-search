{
 "cells": [
  {
   "cell_type": "markdown",
   "metadata": {},
   "source": [
    "# AI Search with Vector Compression"
   ]
  },
  {
   "cell_type": "code",
   "execution_count": 2,
   "metadata": {},
   "outputs": [],
   "source": [
    "import os\n",
    "from dotenv import load_dotenv\n",
    "import pandas as pd\n",
    "from openai import AzureOpenAI\n",
    "from azure.search.documents import SearchClient\n",
    "from azure.core.credentials import AzureKeyCredential\n",
    "import json\n",
    "import time\n",
    "import numpy as np\n",
    "\n",
    "# Load environment variables from .env file\n",
    "load_dotenv(override=True)\n",
    "%load_ext autoreload\n",
    "%autoreload 2"
   ]
  },
  {
   "cell_type": "code",
   "execution_count": 3,
   "metadata": {},
   "outputs": [],
   "source": [
    "# %pip install mercury"
   ]
  },
  {
   "cell_type": "code",
   "execution_count": 4,
   "metadata": {},
   "outputs": [],
   "source": [
    "search_service_endpoint = os.environ[\"AZURE_SEARCH_ENDPOINT\"]\n",
    "search_service_key = os.environ[\"AZURE_SEARCH_KEY\"]\n",
    "azure_openai_endpoint = os.environ[\"AZURE_OPENAI_ENDPOINT\"]\n",
    "azure_openai_key = os.getenv(\"AZURE_OPENAI_KEY\")\n",
    "azure_openai_embedding_deployment = os.getenv(\"AZURE_OPENAI_EMBEDDING_DEPLOYMENT\", \"text-embedding-3-large\")\n",
    "azure_openai_embedding_dimensions = int(os.getenv(\"AZURE_OPENAI_EMBEDDING_DIMENSIONS\", 3072))\n",
    "embedding_model_name = os.getenv(\"AZURE_OPENAI_EMBEDDING_DEPLOYMENT\", \"text-embedding-3-large\")\n",
    "azure_openai_api_version = os.getenv(\"AZURE_OPENAI_API_VERSION\", \"2024-06-01\")"
   ]
  },
  {
   "cell_type": "code",
   "execution_count": 5,
   "metadata": {},
   "outputs": [],
   "source": [
    "from azure.search.documents.indexes import SearchIndexClient\n",
    "search_index_client = SearchIndexClient(\n",
    "search_service_endpoint, AzureKeyCredential(search_service_key))"
   ]
  },
  {
   "cell_type": "code",
   "execution_count": 11,
   "metadata": {},
   "outputs": [
    {
     "name": "stdout",
     "output_type": "stream",
     "text": [
      "['py_embeddings']\n",
      "What is the main plot of the first Harry Potter book?\n"
     ]
    }
   ],
   "source": [
    "from indexes import indexes_config\n",
    "indexes = list(indexes_config.keys())\n",
    "print(indexes)\n",
    "search_queries = json.load(open(\"test_data.json\"))\n",
    "search_queries = search_queries[\"data\"]\n",
    "print(search_queries[0])"
   ]
  },
  {
   "cell_type": "code",
   "execution_count": null,
   "metadata": {},
   "outputs": [
    {
     "name": "stdout",
     "output_type": "stream",
     "text": [
      "****************************************\n",
      "Index Name: py_embeddings\n",
      "Storage Size: 2568.2598MB\n",
      "Vector Size: 102.4023MB\n"
     ]
    }
   ],
   "source": [
    "def bytes_to_kb(bytes):\n",
    "    return round(bytes / 1024, 4)\n",
    "\n",
    "def bytes_to_mb(bytes):\n",
    "    return round(bytes / (1024 * 1024), 4)\n",
    "\n",
    "def find_storage_size_mb(index_name):\n",
    "    response = search_index_client.get_index_statistics(index_name)\n",
    "    return bytes_to_kb(response[\"storage_size\"]), bytes_to_kb(response[\"vector_index_size\"])\n",
    "\n",
    "index_sizes = [(find_storage_size_mb(index), index) for index in indexes]\n",
    "index_sizes.sort(key=lambda item: item[0][0], reverse=True)\n",
    "\n",
    "for ((storage_size, vector_size), index_name) in index_sizes:\n",
    "    print(\"*\" * 40)\n",
    "    print(f\"Index Name: {index_name}\\nStorage Size: {storage_size}KB\\nVector Size: {vector_size}KB\")"
   ]
  },
  {
   "cell_type": "code",
   "execution_count": 13,
   "metadata": {},
   "outputs": [
    {
     "data": {
      "text/html": [
       "<div>\n",
       "<style scoped>\n",
       "    .dataframe tbody tr th:only-of-type {\n",
       "        vertical-align: middle;\n",
       "    }\n",
       "\n",
       "    .dataframe tbody tr th {\n",
       "        vertical-align: top;\n",
       "    }\n",
       "\n",
       "    .dataframe thead th {\n",
       "        text-align: right;\n",
       "    }\n",
       "</style>\n",
       "<table border=\"1\" class=\"dataframe\">\n",
       "  <thead>\n",
       "    <tr style=\"text-align: right;\">\n",
       "      <th></th>\n",
       "      <th>search_text</th>\n",
       "      <th>search_results_text</th>\n",
       "      <th>search_results_score</th>\n",
       "      <th>search_results_time</th>\n",
       "    </tr>\n",
       "  </thead>\n",
       "  <tbody>\n",
       "    <tr>\n",
       "      <th>0</th>\n",
       "      <td>What role does Albus Dumbledore play in the fi...</td>\n",
       "      <td>Harry Potter and the Chamber of Secrets  by  J...</td>\n",
       "      <td>3.464750</td>\n",
       "      <td>0.905596</td>\n",
       "    </tr>\n",
       "    <tr>\n",
       "      <th>1</th>\n",
       "      <td>How does the relationship between Harry, Ron, ...</td>\n",
       "      <td>Harry Potter and the Chamber of Secrets  by  J...</td>\n",
       "      <td>5.032452</td>\n",
       "      <td>0.224479</td>\n",
       "    </tr>\n",
       "    <tr>\n",
       "      <th>2</th>\n",
       "      <td>What are the main themes in Harry Potter and t...</td>\n",
       "      <td>Harry Potter and the Chamber of Secrets  by  J...</td>\n",
       "      <td>4.741489</td>\n",
       "      <td>0.252667</td>\n",
       "    </tr>\n",
       "    <tr>\n",
       "      <th>3</th>\n",
       "      <td>What is the main plot of the first Harry Potte...</td>\n",
       "      <td>Harry Potter and the Chamber of Secrets  by  J...</td>\n",
       "      <td>4.655178</td>\n",
       "      <td>0.219640</td>\n",
       "    </tr>\n",
       "    <tr>\n",
       "      <th>4</th>\n",
       "      <td>What challenges does Harry face in his first y...</td>\n",
       "      <td>Harry Potter and the Chamber of Secrets  by  J...</td>\n",
       "      <td>5.100635</td>\n",
       "      <td>0.213800</td>\n",
       "    </tr>\n",
       "  </tbody>\n",
       "</table>\n",
       "</div>"
      ],
      "text/plain": [
       "                                         search_text  \\\n",
       "0  What role does Albus Dumbledore play in the fi...   \n",
       "1  How does the relationship between Harry, Ron, ...   \n",
       "2  What are the main themes in Harry Potter and t...   \n",
       "3  What is the main plot of the first Harry Potte...   \n",
       "4  What challenges does Harry face in his first y...   \n",
       "\n",
       "                                 search_results_text  search_results_score  \\\n",
       "0  Harry Potter and the Chamber of Secrets  by  J...              3.464750   \n",
       "1  Harry Potter and the Chamber of Secrets  by  J...              5.032452   \n",
       "2  Harry Potter and the Chamber of Secrets  by  J...              4.741489   \n",
       "3  Harry Potter and the Chamber of Secrets  by  J...              4.655178   \n",
       "4  Harry Potter and the Chamber of Secrets  by  J...              5.100635   \n",
       "\n",
       "   search_results_time  \n",
       "0             0.905596  \n",
       "1             0.224479  \n",
       "2             0.252667  \n",
       "3             0.219640  \n",
       "4             0.213800  "
      ]
     },
     "execution_count": 13,
     "metadata": {},
     "output_type": "execute_result"
    }
   ],
   "source": [
    "def search_docs(search_client, search_text):\n",
    "    search_text = search_text.replace(\"\\\"\", \"\")\n",
    "    start = time.time()\n",
    "    results = search_client.search(search_text=search_text, top=1)\n",
    "    text = \"\"\n",
    "    for res in results:\n",
    "        text, score = res[\"chunk\"], res[\"@search.score\"]\n",
    "    end = time.time()\n",
    "    return text, score, end-start\n",
    "\n",
    "search_client = SearchClient(endpoint=search_service_endpoint, index_name=indexes[0], credential=AzureKeyCredential(search_service_key))\n",
    "df = pd.DataFrame()\n",
    "# pick a random search_text from the dataset\n",
    "number_of_trials = 10\n",
    "results = []\n",
    "for i in range(number_of_trials):\n",
    "    # pick a random number from 0 to len(test_data)\n",
    "    random = np.random.randint(0, len(search_queries))\n",
    "    search_text = search_queries[random]\n",
    "    text, score, tt = search_docs(search_client, search_text)\n",
    "    score = float(score)\n",
    "    tt = float(tt)\n",
    "    results.append({\"search_text\": search_text, \"search_results_text\": text, \"search_results_score\": score, \"search_results_time\": tt})\n",
    "df = pd.DataFrame(results)\n",
    "df.head()"
   ]
  },
  {
   "cell_type": "code",
   "execution_count": null,
   "metadata": {},
   "outputs": [],
   "source": []
  }
 ],
 "metadata": {
  "kernelspec": {
   "display_name": ".venv",
   "language": "python",
   "name": "python3"
  },
  "language_info": {
   "codemirror_mode": {
    "name": "ipython",
    "version": 3
   },
   "file_extension": ".py",
   "mimetype": "text/x-python",
   "name": "python",
   "nbconvert_exporter": "python",
   "pygments_lexer": "ipython3",
   "version": "3.11.9"
  }
 },
 "nbformat": 4,
 "nbformat_minor": 2
}
